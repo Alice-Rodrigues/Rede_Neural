{
  "nbformat": 4,
  "nbformat_minor": 0,
  "metadata": {
    "colab": {
      "name": "Rede_Neural.ipynb",
      "provenance": [],
      "authorship_tag": "ABX9TyN4DJ2ufdtWsDHB0IDgg3qd"
    },
    "kernelspec": {
      "name": "python3",
      "display_name": "Python 3"
    },
    "language_info": {
      "name": "python"
    }
  },
  "cells": [
    {
      "cell_type": "code",
      "execution_count": 5,
      "metadata": {
        "colab": {
          "base_uri": "https://localhost:8080/"
        },
        "id": "qQcdnU8a8pPP",
        "outputId": "94772426-6d3c-4eda-e0b0-9383663a085a"
      },
      "outputs": [
        {
          "output_type": "execute_result",
          "data": {
            "text/plain": [
              "array([53, 66, 43, 29, 57, 22, 35, 53, 33, 37, 25, 25, 38, 67, 50, 54, 38,\n",
              "       17, 36, 67, 16, 38, 58, 44, 52, 16, 35, 47, 26, 36, 58, 39, 63, 41,\n",
              "       56, 42, 30, 29, 61, 65])"
            ]
          },
          "metadata": {},
          "execution_count": 5
        }
      ],
      "source": [
        "import numpy as np\n",
        "import matplotlib.pyplot as plt\n",
        "\n",
        "np.random.seed(42)\n",
        "ages = np.random.randint(low=15, high=70, size=40)\n",
        "\n",
        "ages"
      ]
    },
    {
      "cell_type": "code",
      "source": [
        "labels = []\n",
        "for age in ages:\n",
        "    if age < 30:\n",
        "        labels.append (0)\n",
        "    else:\n",
        "        labels.append(1)\n",
        "        \n",
        "#random swap\n",
        "for i in range(0, 3):\n",
        "    r = np.random.randint(0, len(labels) -1)\n",
        "    if labels[r] == 0:\n",
        "        labels[r] = 1\n",
        "    else:\n",
        "        labels[r] = 0"
      ],
      "metadata": {
        "id": "2_RD9lUt80OT"
      },
      "execution_count": 6,
      "outputs": []
    },
    {
      "cell_type": "code",
      "source": [
        "plt.scatter(ages, labels, color=\"purple\")\n",
        "plt.show()"
      ],
      "metadata": {
        "colab": {
          "base_uri": "https://localhost:8080/",
          "height": 265
        },
        "id": "m7dOxetV80z-",
        "outputId": "062fc5c4-93b8-4aae-b9cf-c2602b861942"
      },
      "execution_count": 7,
      "outputs": [
        {
          "output_type": "display_data",
          "data": {
            "text/plain": [
              "<Figure size 432x288 with 1 Axes>"
            ],
            "image/png": "[encoded data removed]"
          },
          "metadata": {
            "needs_background": "light"
          }
        }
      ]
    }
  ]
}