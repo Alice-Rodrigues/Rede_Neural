{
  "nbformat": 4,
  "nbformat_minor": 0,
  "metadata": {
    "colab": {
      "name": "Rede_Neural.ipynb",
      "provenance": [],
      "authorship_tag": "ABX9TyO89IyzhFb+QxAQ14M4It5V"
    },
    "kernelspec": {
      "name": "python3",
      "display_name": "Python 3"
    },
    "language_info": {
      "name": "python"
    }
  },
  "cells": [
    {
      "cell_type": "code",
      "source": [
        "# Criando uma base de dados"
      ],
      "metadata": {
        "id": "94KY5lF0CYV3"
      },
      "execution_count": 1,
      "outputs": []
    },
    {
      "cell_type": "code",
      "execution_count": 12,
      "metadata": {
        "colab": {
          "base_uri": "https://localhost:8080/"
        },
        "id": "qQcdnU8a8pPP",
        "outputId": "f16c7871-9e75-4cd6-8f93-9ce3eb8625a1"
      },
      "outputs": [
        {
          "output_type": "execute_result",
          "data": {
            "text/plain": [
              "59"
            ]
          },
          "metadata": {},
          "execution_count": 12
        }
      ],
      "source": [
        "import numpy as np\n",
        "import matplotlib.pyplot as plt\n",
        "\n",
        "#np.random.seed(42)\n",
        "ages = np.random.randint(low=15, high=70, size=40)\n",
        "\n",
        "ages"
      ]
    },
    {
      "cell_type": "code",
      "source": [
        ""
      ],
      "metadata": {
        "id": "cBpViLmwCgsR"
      },
      "execution_count": 2,
      "outputs": []
    },
    {
      "cell_type": "code",
      "source": [
        "labels = []\n",
        "for age in ages:\n",
        "    if age < 30:\n",
        "        labels.append (0)\n",
        "    else:\n",
        "        labels.append(1)\n",
        "        \n",
        "#random swap\n",
        "for i in range(0, 3):\n",
        "    r = np.random.randint(0, len(labels) -1)\n",
        "    if labels[r] == 0:\n",
        "        labels[r] = 1\n",
        "    else:\n",
        "        labels[r] = 0"
      ],
      "metadata": {
        "id": "2_RD9lUt80OT"
      },
      "execution_count": 3,
      "outputs": []
    },
    {
      "cell_type": "code",
      "source": [
        "plt.scatter(ages, labels, color=\"purple\")\n",
        "plt.show()"
      ],
      "metadata": {
        "colab": {
          "base_uri": "https://localhost:8080/",
          "height": 265
        },
        "id": "m7dOxetV80z-",
        "outputId": "9f308b60-8272-457d-a59b-db43b2eef62d"
      },
      "execution_count": 14,
      "outputs": [
        {
          "output_type": "display_data",
          "data": {
            "text/plain": [
              "<Figure size 432x288 with 1 Axes>"
            ],
            "image/png": "[encoded data removed]"
          },
          "metadata": {
            "needs_background": "light"
          }
        }
      ]
    },
    {
      "cell_type": "code",
      "source": [
        "# Usando Regressão Linear (Predição)"
      ],
      "metadata": {
        "id": "ULI4QUtRCo8L"
      },
      "execution_count": 5,
      "outputs": []
    },
    {
      "cell_type": "code",
      "source": [
        "import numpy as np\n",
        "from sklearn.linear_model import LinearRegression\n",
        "\n",
        "model = LinearRegression()\n",
        "model.fit(ages.reshape(-1, 1), labels)"
      ],
      "metadata": {
        "colab": {
          "base_uri": "https://localhost:8080/"
        },
        "id": "eGTmJ9yvCiPP",
        "outputId": "676c8dfb-d33a-45cf-f087-cea72deb8817"
      },
      "execution_count": 6,
      "outputs": [
        {
          "output_type": "execute_result",
          "data": {
            "text/plain": [
              "LinearRegression()"
            ]
          },
          "metadata": {},
          "execution_count": 6
        }
      ]
    },
    {
      "cell_type": "code",
      "source": [
        "m = model.coef_[0]\n",
        "b = model.intercept_"
      ],
      "metadata": {
        "id": "q7Oa6MwrEcnJ"
      },
      "execution_count": 7,
      "outputs": []
    },
    {
      "cell_type": "markdown",
      "source": [
        "Coeficientes da Reta\n"
      ],
      "metadata": {
        "id": "aYKB0TEVE7_Q"
      }
    },
    {
      "cell_type": "code",
      "source": [
        "from matplotlib.animation import FuncAnimation\n",
        "\n",
        "fig, ax = plt.subplots()\n",
        "\n",
        "axis = plt.axes(xlim = (0, 2),\n",
        "                ylim = (-0.1, 2))\n",
        "\n",
        "line, = axis.plot ([], [], lw =3)\n",
        "\n",
        "#Inicia a reta\n",
        "def init():\n",
        "  line.set_data([], [])\n",
        "  return line,\n",
        "\n",
        "#Mostrando Frames a Frames\n",
        "def animate(i):\n",
        "  m_copy = i * 0.01\n",
        "  plt.title('m = ' + str(m_copy))\n",
        "  x = np.arange(0.0, 10.0, 0.1)\n",
        "  y = m_copy * x + b\n",
        "  line.set_data(x, y)\n",
        "\n",
        "  return line,\n",
        "#Animação Frames\n",
        "ani = FuncAnimation(fig, animate, init_func = init,\n",
        "                    frames = 200,\n",
        "                    interval = 20,\n",
        "                    blit = True)\n",
        "ani.save ('m.mp4', writer = 'ffmpeg', fps = 30)"
      ],
      "metadata": {
        "colab": {
          "base_uri": "https://localhost:8080/",
          "height": 281
        },
        "id": "lRc8UPTLFDhf",
        "outputId": "22e08378-1a2b-49ee-d330-1e0367d9159a"
      },
      "execution_count": 8,
      "outputs": [
        {
          "output_type": "display_data",
          "data": {
            "text/plain": [
              "<Figure size 432x288 with 1 Axes>"
            ],
            "image/png": "[encoded data removed]"
          },
          "metadata": {
            "needs_background": "light"
          }
        }
      ]
    },
    {
      "cell_type": "markdown",
      "source": [
        "Regressão Linear com o Conjunto de Pontos\n"
      ],
      "metadata": {
        "id": "otS29PTwKGIA"
      }
    },
    {
      "cell_type": "code",
      "source": [
        "liniar_idade = (0.5 - b)/m\n",
        "print (liniar_idade)\n",
        "\n",
        "plt.scatter(ages, ages * m + b, color=\"red\")\n",
        "plt.plot([liniar_idade, liniar_idade], [0, 0.5], '--', color = 'green')\n",
        "plt.scatter(ages, labels, color=\"purple\")\n",
        "plt.show()"
      ],
      "metadata": {
        "colab": {
          "base_uri": "https://localhost:8080/",
          "height": 282
        },
        "id": "Mc3pcNW1JSJ1",
        "outputId": "73a63b4c-57f7-4bb0-86d5-491610a0b37d"
      },
      "execution_count": 9,
      "outputs": [
        {
          "output_type": "stream",
          "name": "stdout",
          "text": [
            "31.61488269794722\n"
          ]
        },
        {
          "output_type": "display_data",
          "data": {
            "text/plain": [
              "<Figure size 432x288 with 1 Axes>"
            ],
            "image/png": "[encoded data removed]"
          },
          "metadata": {
            "needs_background": "light"
          }
        }
      ]
    },
    {
      "cell_type": "code",
      "source": [
        ""
      ],
      "metadata": {
        "id": "aK71GPzZKOJW"
      },
      "execution_count": 9,
      "outputs": []
    }
  ]
}