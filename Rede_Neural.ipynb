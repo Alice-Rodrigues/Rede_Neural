{
  "nbformat": 4,
  "nbformat_minor": 0,
  "metadata": {
    "colab": {
      "name": "Rede_Neural.ipynb",
      "provenance": [],
      "authorship_tag": "ABX9TyMboSGr8SvrNVfw2wDUOKVw"
    },
    "kernelspec": {
      "name": "python3",
      "display_name": "Python 3"
    },
    "language_info": {
      "name": "python"
    }
  },
  "cells": [
    {
      "cell_type": "code",
      "execution_count": 8,
      "metadata": {
        "colab": {
          "base_uri": "https://localhost:8080/"
        },
        "id": "qQcdnU8a8pPP",
        "outputId": "fae5f813-bc04-4512-8a35-0c5639d37d70"
      },
      "outputs": [
        {
          "output_type": "execute_result",
          "data": {
            "text/plain": [
              "array([35, 23, 53, 32, 18, 39, 28, 64, 23, 40, 67, 16, 34, 42, 61, 21, 58,\n",
              "       22, 61, 49, 28, 31, 50, 64, 54, 18, 16, 20, 68, 56, 18, 68, 43, 32,\n",
              "       40, 58, 48, 24, 50, 28])"
            ]
          },
          "metadata": {},
          "execution_count": 8
        }
      ],
      "source": [
        "import numpy as np\n",
        "import matplotlib.pyplot as plt\n",
        "\n",
        "#np.random.seed(42)\n",
        "ages = np.random.randint(low=15, high=70, size=40)\n",
        "\n",
        "ages"
      ]
    },
    {
      "cell_type": "code",
      "source": [
        "labels = []\n",
        "for age in ages:\n",
        "    if age < 30:\n",
        "        labels.append (0)\n",
        "    else:\n",
        "        labels.append(1)\n",
        "        \n",
        "#random swap\n",
        "for i in range(0, 3):\n",
        "    r = np.random.randint(0, len(labels) -1)\n",
        "    if labels[r] == 0:\n",
        "        labels[r] = 1\n",
        "    else:\n",
        "        labels[r] = 0"
      ],
      "metadata": {
        "id": "2_RD9lUt80OT"
      },
      "execution_count": 9,
      "outputs": []
    },
    {
      "cell_type": "code",
      "source": [
        "plt.scatter(ages, labels, color=\"purple\")\n",
        "plt.show()"
      ],
      "metadata": {
        "colab": {
          "base_uri": "https://localhost:8080/",
          "height": 265
        },
        "id": "m7dOxetV80z-",
        "outputId": "017998d2-d285-4931-a412-56243e30eb6c"
      },
      "execution_count": 10,
      "outputs": [
        {
          "output_type": "display_data",
          "data": {
            "text/plain": [
              "<Figure size 432x288 with 1 Axes>"
            ],
            "image/png": "[encoded data removed]"
          },
          "metadata": {
            "needs_background": "light"
          }
        }
      ]
    }
  ]
}